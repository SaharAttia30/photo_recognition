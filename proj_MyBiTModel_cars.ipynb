{
 "cells": [
  {
   "cell_type": "code",
   "execution_count": 1,
   "id": "7cd2efb8",
   "metadata": {
    "scrolled": false
   },
   "outputs": [
    {
     "name": "stderr",
     "output_type": "stream",
     "text": [
      "C:\\Users\\sahar\\AppData\\Local\\Packages\\PythonSoftwareFoundation.Python.3.7_qbz5n2kfra8p0\\LocalCache\\local-packages\\Python37\\site-packages\\tqdm\\auto.py:21: TqdmWarning: IProgress not found. Please update jupyter and ipywidgets. See https://ipywidgets.readthedocs.io/en/stable/user_install.html\n",
      "  from .autonotebook import tqdm as notebook_tqdm\n"
     ]
    }
   ],
   "source": [
    "import numpy as np\n",
    "import pandas as pd\n",
    "import matplotlib.pyplot as plt\n",
    "\n",
    "import tensorflow as tf\n",
    "from tensorflow import keras\n",
    "import tensorflow_hub as hub\n",
    "import tensorflow_datasets as tfds\n",
    "\n",
    "tfds.disable_progress_bar()\n",
    "\n",
    "SEEDS = 42\n",
    "\n",
    "np.random.seed(SEEDS)\n",
    "tf.random.set_seed(SEEDS)"
   ]
  },
  {
   "cell_type": "code",
   "execution_count": 2,
   "id": "5db632aa",
   "metadata": {},
   "outputs": [
    {
     "name": "stdout",
     "output_type": "stream",
     "text": [
      "Found 13416 files belonging to 10 classes.\n",
      "Using 11404 files for training.\n",
      "Found 13416 files belonging to 10 classes.\n",
      "Using 2012 files for validation.\n"
     ]
    }
   ],
   "source": [
    "import os\n",
    "image_size = (224, 224)\n",
    "batch_size = 64\n",
    "\n",
    "train_ds= tf.keras.preprocessing.image_dataset_from_directory(\n",
    "    \"car_data\",\n",
    "    validation_split=0.15,\n",
    "    subset=\"training\",\n",
    "    seed=1337,\n",
    "    label_mode='int',\n",
    "    # subset=None,\n",
    "    image_size=image_size,\n",
    "    batch_size=batch_size,\n",
    ")\n",
    "val_ds = tf.keras.preprocessing.image_dataset_from_directory(\n",
    "    \"car_data\",\n",
    "    validation_split=0.15,\n",
    "    subset=\"validation\",\n",
    "    label_mode='int',\n",
    "    seed=1337,\n",
    "    # subset=None,\n",
    "    image_size=image_size,\n",
    "    batch_size=batch_size,\n",
    ")\n",
    "\n",
    "\n"
   ]
  },
  {
   "cell_type": "code",
   "execution_count": 3,
   "id": "7193a183",
   "metadata": {},
   "outputs": [
    {
     "name": "stdout",
     "output_type": "stream",
     "text": [
      "(2012, 224, 224, 3)\n",
      "(2012, 1)\n",
      "(11404, 224, 224, 3)\n",
      "(11404, 1)\n"
     ]
    }
   ],
   "source": [
    "x_train =[]\n",
    "y_train = []\n",
    "x_val =[]\n",
    "y_val = []\n",
    "for i, (image, label) in enumerate(train_ds.take(len(train_ds))):\n",
    "    x_train.append(image)\n",
    "    y_train.append(label)\n",
    "for i, (image, label) in enumerate(val_ds.take(len(val_ds))):\n",
    "    x_val.append(image)\n",
    "    y_val.append(label)\n",
    "\n",
    "x_train1 = []\n",
    "for i in x_train:\n",
    "    for j in i:\n",
    "        x_train1.append(j)\n",
    "x_train = np.array(x_train1)\n",
    "y_train1 = []\n",
    "for i in y_train:\n",
    "    for j in i:\n",
    "        y_train1.append(j)\n",
    "# y_train = np.array(y_train1)\n",
    "y_train = np.array(y_train1).reshape(11404,1)\n",
    "x_val1 = []\n",
    "for i in x_val:\n",
    "    for j in i:\n",
    "        x_val1.append(j)\n",
    "x_val = np.array(x_val1)\n",
    "y_val1 = []\n",
    "for i in y_val:\n",
    "    for j in i:\n",
    "        y_val1.append(j)\n",
    "# y_val = np.array(y_val1)\n",
    "\n",
    "y_val = np.array(y_val1).reshape(2012,1)\n",
    "\n",
    "print(x_val.shape)\n",
    "print(y_val.shape)\n",
    "print(x_train.shape)\n",
    "print(y_train.shape)\n",
    "RESIZE_TO = 384\n",
    "CROP_TO = 224\n",
    "BATCH_SIZE = 64\n",
    "STEPS_PER_EPOCH = 30\n",
    "AUTO = tf.data.AUTOTUNE  # optimise the pipeline performance\n",
    "NUM_CLASSES = 10  # number of classes\n",
    "SCHEDULE_LENGTH = (\n",
    "    500  # we will train on lower resolution images and will still attain good results\n",
    ")\n",
    "SCHEDULE_BOUNDARIES = [\n",
    "    200,\n",
    "    300,\n",
    "    400,\n",
    "]  # more the dataset size the schedule length increase"
   ]
  },
  {
   "cell_type": "code",
   "execution_count": null,
   "id": "6d363ed4",
   "metadata": {},
   "outputs": [],
   "source": []
  },
  {
   "cell_type": "code",
   "execution_count": 4,
   "id": "d72df3c0",
   "metadata": {},
   "outputs": [],
   "source": [
    "AUTO = tf.data.AUTOTUNE\n",
    "train_ds = tf.data.Dataset.from_tensor_slices((x_train, y_train))\n",
    "# train_ds = train_ds.shuffle(128).batch(64).prefetch(AUTO)\n",
    "\n",
    "val_ds = tf.data.Dataset.from_tensor_slices((x_val, y_val))\n",
    "# val_ds = val_ds.batch(64).prefetch(AUTO)\n"
   ]
  },
  {
   "cell_type": "code",
   "execution_count": 5,
   "id": "b4b803ed",
   "metadata": {},
   "outputs": [],
   "source": [
    "SCHEDULE_LENGTH = SCHEDULE_LENGTH * 512 / BATCH_SIZE\n",
    "\n",
    "@tf.function\n",
    "def preprocess_train(image, label):\n",
    "    image = tf.image.random_flip_left_right(image)\n",
    "    image = tf.image.resize(image, (RESIZE_TO, RESIZE_TO))\n",
    "    image = tf.image.random_crop(image, (CROP_TO, CROP_TO, 3))\n",
    "    image = image / 255.0\n",
    "    return (image, label)\n",
    "\n",
    "@tf.function\n",
    "def preprocess_test(image, label):\n",
    "    image = tf.image.resize(image, (RESIZE_TO, RESIZE_TO))\n",
    "    image = image / 255.0\n",
    "    return (image, label)\n",
    "\n",
    "DATASET_NUM_TRAIN_EXAMPLES = train_ds.cardinality().numpy()\n",
    "repeat_count = int(\n",
    "    SCHEDULE_LENGTH * BATCH_SIZE / DATASET_NUM_TRAIN_EXAMPLES * STEPS_PER_EPOCH\n",
    ")\n",
    "repeat_count += 50 + 1  # To ensure at least there are 50 epochs of training\n",
    "pipeline_train = (\n",
    "    train_ds.shuffle(10000)\n",
    "    .repeat(repeat_count)  # Repeat dataset_size / num_steps\n",
    "    .map(preprocess_train, num_parallel_calls=AUTO)\n",
    "    .batch(BATCH_SIZE)\n",
    "    .prefetch(AUTO)\n",
    ")\n",
    "\n",
    "# Validation pipeline\n",
    "pipeline_validation = (\n",
    "    val_ds.map(preprocess_test, num_parallel_calls=AUTO)\n",
    "    .batch(BATCH_SIZE)\n",
    "    .prefetch(AUTO)\n",
    ")\n"
   ]
  },
  {
   "cell_type": "code",
   "execution_count": 6,
   "metadata": {},
   "outputs": [],
   "source": [
    "x_train =[]\n",
    "y_train = []\n",
    "x_val =[]\n",
    "y_val = []\n",
    "x_train1 = []\n",
    "y_train1 = []\n",
    "y_val1 = []\n",
    "x_val1 = []\n",
    "\n",
    "\n",
    "\n",
    "\n",
    "# image_batch, label_batch = next(iter(pipeline_train))\n",
    "\n",
    "# plt.figure(figsize=(10, 10))\n",
    "# for n in range(25):\n",
    "#     ax = plt.subplot(5, 5, n + 1)\n",
    "#     plt.imshow(image_batch[n])\n",
    "#     plt.title(label_batch[n].numpy())\n",
    "#     plt.axis(\"off\")"
   ]
  },
  {
   "cell_type": "code",
   "execution_count": 7,
   "id": "5ea9b112",
   "metadata": {},
   "outputs": [],
   "source": [
    "bit_model_url = \"https://tfhub.dev/google/bit/m-r50x1/1\"\n",
    "bit_module = hub.KerasLayer(bit_model_url)\n",
    "class MyBiTModel(keras.Model):\n",
    "    def __init__(self, num_classes, module, **kwargs):\n",
    "        super().__init__(**kwargs)\n",
    "\n",
    "        self.num_classes = num_classes\n",
    "        self.head = keras.layers.Dense(num_classes, kernel_initializer=\"zeros\")\n",
    "        self.bit_model = module\n",
    "\n",
    "    def call(self, images):\n",
    "        bit_embedding = self.bit_model(images)\n",
    "        return self.head(bit_embedding)\n",
    "\n",
    "\n",
    "model = MyBiTModel(num_classes=NUM_CLASSES, module=bit_module)\n",
    "learning_rate = 0.001 * BATCH_SIZE / 512\n",
    "\n",
    "# Decay learning rate by a factor of 10 at SCHEDULE_BOUNDARIES.\n",
    "lr_schedule = keras.optimizers.schedules.PiecewiseConstantDecay(\n",
    "    boundaries=SCHEDULE_BOUNDARIES,\n",
    "    values=[\n",
    "        learning_rate,\n",
    "        learning_rate * 0.1,\n",
    "        learning_rate * 0.01,\n",
    "        learning_rate * 0.001,\n",
    "    ],\n",
    ")\n",
    "optimizer = keras.optimizers.SGD(learning_rate=lr_schedule, momentum=0.9)\n",
    "\n",
    "loss_fn = keras.losses.SparseCategoricalCrossentropy(from_logits=True)"
   ]
  },
  {
   "cell_type": "code",
   "execution_count": 8,
   "id": "23b07a52",
   "metadata": {},
   "outputs": [],
   "source": [
    "model.compile(optimizer=\"adam\", loss=loss_fn, metrics=[\"accuracy\"])\n",
    "train_callbacks = [\n",
    "    keras.callbacks.EarlyStopping(\n",
    "        monitor=\"val_accuracy\", patience=5, restore_best_weights=True\n",
    "    )\n",
    "]"
   ]
  },
  {
   "cell_type": "code",
   "execution_count": 13,
   "id": "d24653de",
   "metadata": {},
   "outputs": [
    {
     "name": "stdout",
     "output_type": "stream",
     "text": [
      "Epoch 1/7\n",
      "60/60 [==============================] - 862s 15s/step - loss: 0.8736 - accuracy: 0.6909 - val_loss: 1.0101 - val_accuracy: 0.6441\n",
      "Epoch 2/7\n",
      "60/60 [==============================] - 918s 15s/step - loss: 0.8199 - accuracy: 0.7018 - val_loss: 0.8793 - val_accuracy: 0.6670\n",
      "Epoch 3/7\n",
      "60/60 [==============================] - 918s 15s/step - loss: 0.8321 - accuracy: 0.7036 - val_loss: 0.8252 - val_accuracy: 0.7038\n",
      "Epoch 4/7\n",
      "60/60 [==============================] - 915s 15s/step - loss: 0.7432 - accuracy: 0.7352 - val_loss: 0.8485 - val_accuracy: 0.6933\n",
      "Epoch 5/7\n",
      "60/60 [==============================] - 916s 15s/step - loss: 0.7875 - accuracy: 0.7107 - val_loss: 0.8013 - val_accuracy: 0.7177\n",
      "Epoch 6/7\n",
      "60/60 [==============================] - 916s 15s/step - loss: 0.8417 - accuracy: 0.7005 - val_loss: 0.8436 - val_accuracy: 0.6938\n",
      "Epoch 7/7\n",
      "60/60 [==============================] - 917s 15s/step - loss: 0.7417 - accuracy: 0.7320 - val_loss: 0.7819 - val_accuracy: 0.7301\n"
     ]
    }
   ],
   "source": [
    "history = model.fit(\n",
    "    pipeline_train,\n",
    "    batch_size=BATCH_SIZE,\n",
    "    epochs=7,\n",
    "    steps_per_epoch=60,\n",
    "    validation_data=pipeline_validation,\n",
    "    # callbacks=train_callbacks,\n",
    ")"
   ]
  },
  {
   "cell_type": "code",
   "execution_count": 15,
   "id": "4fae547b",
   "metadata": {},
   "outputs": [
    {
     "data": {
      "image/png": "[encoded data removed]",
      "text/plain": [
       "<Figure size 432x288 with 1 Axes>"
      ]
     },
     "metadata": {
      "needs_background": "light"
     },
     "output_type": "display_data"
    }
   ],
   "source": [
    "def plot_hist(hist):\n",
    "    plt.plot(hist.history[\"accuracy\"])\n",
    "    plt.plot(hist.history[\"val_accuracy\"])\n",
    "    plt.plot(hist.history[\"loss\"])\n",
    "    plt.plot(hist.history[\"val_loss\"])\n",
    "    plt.title(\"Training Progress\")\n",
    "    plt.ylabel(\"Accuracy/Loss\")\n",
    "    plt.xlabel(\"Epochs\")\n",
    "    plt.legend([\"train_acc\", \"val_acc\", \"train_loss\", \"val_loss\"], loc=\"upper left\")\n",
    "    plt.show()\n",
    "\n",
    "\n",
    "plot_hist(history)"
   ]
  },
  {
   "cell_type": "code",
   "execution_count": 16,
   "id": "c4745d76",
   "metadata": {},
   "outputs": [
    {
     "name": "stdout",
     "output_type": "stream",
     "text": [
      "  4/118 [>.............................] - ETA: 1:07:16 - loss: 0.4405 - accuracy: 0.8516"
     ]
    }
   ],
   "source": [
    "accuracy = model.evaluate(pipeline_validation)[1] * 100\n",
    "print(\"Accuracy: {:.2f}%\".format(accuracy))"
   ]
  },
  {
   "cell_type": "code",
   "execution_count": 14,
   "id": "f7f68652",
   "metadata": {},
   "outputs": [
    {
     "name": "stdout",
     "output_type": "stream",
     "text": [
      "INFO:tensorflow:Assets written to: model_cars3.tf\\assets\n"
     ]
    },
    {
     "name": "stderr",
     "output_type": "stream",
     "text": [
      "INFO:tensorflow:Assets written to: model_cars3.tf\\assets\n"
     ]
    }
   ],
   "source": [
    "model.save(\"model_cars3.tf\")"
   ]
  },
  {
   "cell_type": "code",
   "execution_count": 16,
   "id": "379bf7a6",
   "metadata": {},
   "outputs": [
    {
     "data": {
      "image/png": "[encoded data removed]",
      "text/plain": [
       "<Figure size 432x288 with 1 Axes>"
      ]
     },
     "metadata": {
      "needs_background": "light"
     },
     "output_type": "display_data"
    },
    {
     "data": {
      "image/png": "[encoded data removed]",
      "text/plain": [
       "<Figure size 432x288 with 1 Axes>"
      ]
     },
     "metadata": {
      "needs_background": "light"
     },
     "output_type": "display_data"
    }
   ],
   "source": [
    "import matplotlib.pyplot as plt\n",
    "def plot_graphs(history, string):\n",
    "  plt.plot(history.history[string])\n",
    "  plt.plot(history.history['val_'+string])\n",
    "  plt.xlabel(\"Epochs\")\n",
    "  plt.ylabel(string)\n",
    "  plt.legend([string, 'test_'+string])\n",
    "  plt.show()\n",
    "plot_graphs(history, \"accuracy\")\n",
    "plot_graphs(history, \"loss\")"
   ]
  }
 ],
 "metadata": {
  "kernelspec": {
   "display_name": "Python 3.7.9 64-bit (microsoft store)",
   "language": "python",
   "name": "python3"
  },
  "language_info": {
   "codemirror_mode": {
    "name": "ipython",
    "version": 3
   },
   "file_extension": ".py",
   "mimetype": "text/x-python",
   "name": "python",
   "nbconvert_exporter": "python",
   "pygments_lexer": "ipython3",
   "version": "3.7.9"
  },
  "vscode": {
   "interpreter": {
    "hash": "a74890e35a4abb8419189bee467494ed47a7fb41860601e50418932208538c87"
   }
  }
 },
 "nbformat": 4,
 "nbformat_minor": 5
}
